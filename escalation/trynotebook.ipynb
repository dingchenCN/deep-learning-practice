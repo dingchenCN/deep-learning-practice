{
 "cells": [
  {
   "cell_type": "code",
   "execution_count": 2,
   "metadata": {
    "collapsed": true
   },
   "outputs": [
    {
     "name": "stdout",
     "output_type": "stream",
     "text": [
      "Sun Jul 23 09:27:57 2017\n"
     ]
    }
   ],
   "source": [
    "import time\n",
    "print(time.ctime())"
   ]
  },
  {
   "cell_type": "code",
   "execution_count": 3,
   "metadata": {},
   "outputs": [
    {
     "name": "stdout",
     "output_type": "stream",
     "text": [
      "1): [(11488, 'QCIM1J11488', 'Recording process is not supported under OS 64 bits', '<html><body>\\n<b>ACTUAL BEHAVIOR:</b>\\n<br />\\n<br />The recording support in Vugen on 64bit OS has not been added with the SP2 (LR 9.50 SP2)\\n<br />\\n<br />\\n<b>EXPECTED BEHAVIOR:</b>\\n<br />\\n<br />Add support for recording in the next releases\\n<br />\\n<br />\\n<b>HOW-TO-REPRODUCE:</b>\\n<br />\\n<br />1. Install Vugen 9.52 on 64 bits OS\\n<br />2. No events are recorded and IE is not launched\\n<br />\\n<br />\\n<b>ENVIRONMENT:</b> (Hardware, OS, OS Version, Browser, etc)\\n<br />\\n<br />-Microsoft windows Server 2003 R2 Standard x64 Edition Service Pack 2\\n<br />-IE 7\\n<br />\\n<br />_\\n</body></html>', 4, 2, 0, 0, 0, 155.0, '<html><body>\\n<br />\\n<font color=\"#000080\"><b>________________________________________</b></font> \\n<br />\\n<font color=\"#000080\"><b>Mass update, 2010-09-01:</b></font> \\n<br />Please note: This incident was closed as only incidents submitted after the 31st of August 2010 are being handled by the new process.\\n</body></html>', 1, 0)]\n"
     ]
    }
   ],
   "source": [
    "import sqlite3\n",
    "sqlite_file = '/Users/christie/Desktop/escalation/ProcessedData.db'\n",
    "conn = sqlite3.connect(sqlite_file)\n",
    "c = conn.cursor()\n",
    "c.execute('SELECT * FROM {tn} WHERE {cn}=\"11488\"'.\\\n",
    "        format(tn='Defects', cn='ID'))\n",
    "all_rows = c.fetchall()\n",
    "print('1):', all_rows)\n",
    "\n",
    "conn.close()"
   ]
  },
  {
   "cell_type": "code",
   "execution_count": null,
   "metadata": {},
   "outputs": [],
   "source": [
    ""
   ]
  }
 ],
 "metadata": {
  "kernelspec": {
   "display_name": "Python 2",
   "language": "python",
   "name": "python2"
  },
  "language_info": {
   "codemirror_mode": {
    "name": "ipython",
    "version": 2.0
   },
   "file_extension": ".py",
   "mimetype": "text/x-python",
   "name": "python",
   "nbconvert_exporter": "python",
   "pygments_lexer": "ipython2",
   "version": "2.7.6"
  }
 },
 "nbformat": 4,
 "nbformat_minor": 0
}